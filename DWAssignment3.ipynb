{
 "cells": [
  {
   "cell_type": "code",
   "execution_count": 1,
   "id": "766abd0c-40ac-4767-8e72-94a08f0a294c",
   "metadata": {},
   "outputs": [],
   "source": [
    "# Rachel Buchleiter \n",
    "# Assignment 3\n",
    "import numpy as np\n",
    "import pandas as pd\n",
    "from pandas import Series, DataFrame\n"
   ]
  },
  {
   "cell_type": "code",
   "execution_count": 5,
   "id": "088787f8-3458-4305-90c4-c5099ca5c5f1",
   "metadata": {},
   "outputs": [
    {
     "name": "stdout",
     "output_type": "stream",
     "text": [
      "      Patient ID  Count\n",
      "0       100159.0      1\n",
      "1       100267.0      1\n",
      "2       102075.0      1\n",
      "3       104363.0      1\n",
      "4       108234.0      1\n",
      "...          ...    ...\n",
      "4897   7774595.0      1\n",
      "4898   7774981.0      1\n",
      "4899   7776158.0      1\n",
      "4900   7777179.0      1\n",
      "4901   7777623.0      1\n",
      "\n",
      "[4902 rows x 2 columns]\n"
     ]
    }
   ],
   "source": [
    "# Q1 - Diabetes Set\n",
    "# a. Find all patients with Diabetes using the codes above by listing their patient IDs \n",
    "\n",
    "df = pd.read_csv('DW3_set_exercise.csv')\n",
    "\n",
    "# Filter rows with Diagnosis Code of E08, E09, E10, E11, or E13\n",
    "diabetes_df = df[df['Diagnosis Code'].isin(['E08', 'E09', 'E10', 'E11', 'E13'])]\n",
    "\n",
    "# Group by Patient ID and list patients\n",
    "patients_diabetes = diabetes_df.groupby('Patient ID').size().reset_index(name='Count')\n",
    "\n",
    "# Print the result\n",
    "print(patients_diabetes)\n",
    "                           "
   ]
  },
  {
   "cell_type": "code",
   "execution_count": 6,
   "id": "ede9a6fa-84e1-4826-b294-e4189f97f0bc",
   "metadata": {},
   "outputs": [
    {
     "name": "stdout",
     "output_type": "stream",
     "text": [
      "Cardinality of patients with diabetes 4902\n"
     ]
    }
   ],
   "source": [
    "# b. Find the cardinality of the Diabetes set\n",
    "cardinality = patients_diabetes['Patient ID'].nunique()\n",
    "print(\"Cardinality of patients with diabetes\", cardinality)"
   ]
  },
  {
   "cell_type": "code",
   "execution_count": 7,
   "id": "b90b3e05-1a1b-49b8-9d27-fb67e9ae4718",
   "metadata": {},
   "outputs": [
    {
     "name": "stdout",
     "output_type": "stream",
     "text": [
      "      Patient ID  Count\n",
      "0       101663.0      1\n",
      "1       102327.0      1\n",
      "2       103554.0      1\n",
      "3       108216.0      1\n",
      "4       108800.0      1\n",
      "...          ...    ...\n",
      "1992   7769037.0      1\n",
      "1993   7770393.0      1\n",
      "1994   7771957.0      1\n",
      "1995   7772199.0      1\n",
      "1996   7777718.0      1\n",
      "\n",
      "[1997 rows x 2 columns]\n"
     ]
    }
   ],
   "source": [
    "# Q2 - COVID Set\n",
    "# a. Find all patients with COVID using the codes above by listing their patient IDs \n",
    "\n",
    "# df = pd.read_csv('DW3_set_exercise.csv')\n",
    "\n",
    "# Filter rows with Diagnosis Code of U07.1, J12.82\n",
    "covid_df = df[df['Diagnosis Code'].isin(['U07.1', 'J12.82'])]\n",
    "\n",
    "# Group by Patient ID and list patients\n",
    "patients_covid = covid_df.groupby('Patient ID').size().reset_index(name='Count')\n",
    "\n",
    "# Print the result\n",
    "print(patients_covid)"
   ]
  },
  {
   "cell_type": "code",
   "execution_count": 8,
   "id": "d2561a34-c4ad-43b3-b3d7-63c2e269d30e",
   "metadata": {},
   "outputs": [
    {
     "name": "stdout",
     "output_type": "stream",
     "text": [
      "Cardinality of patients with COVID 1997\n"
     ]
    }
   ],
   "source": [
    "# b. Find the cardinality of the COVID set\n",
    "cardinality = patients_covid['Patient ID'].nunique()\n",
    "print(\"Cardinality of patients with COVID\", cardinality)"
   ]
  },
  {
   "cell_type": "code",
   "execution_count": 10,
   "id": "1f7d748d-a363-4f58-823e-0d640ed1eff7",
   "metadata": {},
   "outputs": [
    {
     "name": "stdout",
     "output_type": "stream",
     "text": [
      "     Patient ID  Count_x  Count_y\n",
      "0      138575.0        1        1\n",
      "1      175474.0        1        1\n",
      "2      222248.0        1        1\n",
      "3      227866.0        1        1\n",
      "4      266223.0        1        1\n",
      "..          ...      ...      ...\n",
      "160   7588327.0        1        1\n",
      "161   7609020.0        1        1\n",
      "162   7631360.0        1        1\n",
      "163   7635276.0        1        1\n",
      "164   7695977.0        1        1\n",
      "\n",
      "[165 rows x 3 columns]\n"
     ]
    }
   ],
   "source": [
    "# Q3 - Intersection set\n",
    "# a. Find all patients with Diabetes AND COVID using the codes above by listing their patient IDs\n",
    "intersection_set = pd.merge(patients_diabetes, patients_covid, on='Patient ID', how='inner')\n",
    "# print list\n",
    "print(intersection_set)"
   ]
  },
  {
   "cell_type": "code",
   "execution_count": 11,
   "id": "b2e24a6b-df03-47ea-9549-5af83b6ba300",
   "metadata": {},
   "outputs": [
    {
     "name": "stdout",
     "output_type": "stream",
     "text": [
      "Cardinality of patients with Diabetes AND COVID 165\n"
     ]
    }
   ],
   "source": [
    "# b. Find the cardinality of the intersection set\n",
    "cardinality = intersection_set['Patient ID'].nunique()\n",
    "print(\"Cardinality of patients with Diabetes AND COVID\", cardinality)"
   ]
  },
  {
   "cell_type": "code",
   "execution_count": 13,
   "id": "5d0b93c2-cb36-447e-9ab5-d3983a2985a6",
   "metadata": {},
   "outputs": [
    {
     "name": "stdout",
     "output_type": "stream",
     "text": [
      "      Patient ID  Count\n",
      "0       100159.0      1\n",
      "1       100267.0      1\n",
      "2       102075.0      1\n",
      "3       104363.0      1\n",
      "4       108234.0      1\n",
      "...          ...    ...\n",
      "1992   7769037.0      1\n",
      "1993   7770393.0      1\n",
      "1994   7771957.0      1\n",
      "1995   7772199.0      1\n",
      "1996   7777718.0      1\n",
      "\n",
      "[6734 rows x 2 columns]\n"
     ]
    }
   ],
   "source": [
    "# Q4 Union Set\n",
    "# a. Find all patients with Diabetes or COVID using the codes above by listing their patient IDs\n",
    "union_set = pd.concat([patients_diabetes, patients_covid]).drop_duplicates(subset='Patient ID')\n",
    "# print list\n",
    "print(union_set)\n"
   ]
  },
  {
   "cell_type": "code",
   "execution_count": 14,
   "id": "3f584a6f-2bae-4bab-ac68-5a7cd8a61b70",
   "metadata": {},
   "outputs": [
    {
     "name": "stdout",
     "output_type": "stream",
     "text": [
      "Cardinality of patients with Diabetes OR COVID 6734\n"
     ]
    }
   ],
   "source": [
    "# b. Find the cardinality of the union set\n",
    "cardinality = union_set['Patient ID'].nunique()\n",
    "print(\"Cardinality of patients with Diabetes OR COVID\", cardinality)"
   ]
  },
  {
   "cell_type": "code",
   "execution_count": 68,
   "id": "bc74a45e-7d59-4a9e-aec0-feb2d4c60ebc",
   "metadata": {},
   "outputs": [],
   "source": [
    "# Q5 Draw a Venn diagram showing the Diabetes, COVID, Intersection and Union sets.\n",
    "import matplotlib.pyplot as plt\n",
    "import matplotlib_venn\n",
    "\n",
    "from matplotlib_venn import venn2\n"
   ]
  },
  {
   "cell_type": "code",
   "execution_count": 70,
   "id": "f3001f6d-337d-482a-b36f-09ef2a7861ed",
   "metadata": {},
   "outputs": [],
   "source": [
    "# Count of patients in each set\n",
    "diabetes_count = 4902\n",
    "covid_count = 1997\n",
    "intersection_count = 165\n",
    "union_count = 6734"
   ]
  },
  {
   "cell_type": "code",
   "execution_count": 71,
   "id": "0f6e7e07-069f-43f9-aef5-9a560ac8c9f8",
   "metadata": {},
   "outputs": [
    {
     "data": {
      "image/png": "[encoded data removed]",
      "text/plain": [
       "<Figure size 640x480 with 1 Axes>"
      ]
     },
     "metadata": {},
     "output_type": "display_data"
    }
   ],
   "source": [
    "# Draw Venn diagram\n",
    "venn2(subsets=(diabetes_count, covid_count, intersection_count),\n",
    "      set_labels=('Diabetes', 'COVID'))\n",
    "\n",
    "# Show the plot\n",
    "plt.title('Venn Diagram')\n",
    "plt.show()\n"
   ]
  },
  {
   "cell_type": "code",
   "execution_count": 73,
   "id": "1d0882f0-7d56-4f83-a5fa-59a2143ab9ab",
   "metadata": {},
   "outputs": [],
   "source": [
    "# Q6 Diabetes only after COVID set\n",
    "# diabetes list\n",
    "diabetes_df\n",
    "# COVID list\n",
    "covid_df\n",
    "\n",
    "result_df= diabetes_df.merge(covid_df, on='Patient ID', how='inner')\n",
    "result_df=result_df[result_df['Date_x']> result_df['Date_y']]"
   ]
  },
  {
   "cell_type": "code",
   "execution_count": 76,
   "id": "1b663f9b-e249-4f20-9064-fa814918d81c",
   "metadata": {},
   "outputs": [],
   "source": [
    "# Unique patient ID\n",
    "# unique_patients = result_df['Patient_ID'].unique()\n",
    "unique_patients = result_df.groupby('Patient ID').size().reset_index(name='Count')"
   ]
  },
  {
   "cell_type": "code",
   "execution_count": 77,
   "id": "da129d66-9831-46ea-a9ad-a9a8650f7305",
   "metadata": {},
   "outputs": [
    {
     "name": "stdout",
     "output_type": "stream",
     "text": [
      "    Patient ID  Count\n",
      "0     138575.0      1\n",
      "1     175474.0      1\n",
      "2     222248.0      1\n",
      "3     227866.0      1\n",
      "4     482256.0      1\n",
      "..         ...    ...\n",
      "65   7542154.0      1\n",
      "66   7588327.0      1\n",
      "67   7609020.0      1\n",
      "68   7631360.0      1\n",
      "69   7635276.0      1\n",
      "\n",
      "[70 rows x 2 columns]\n"
     ]
    }
   ],
   "source": [
    "# part a\n",
    "print(unique_patients)"
   ]
  },
  {
   "cell_type": "code",
   "execution_count": 79,
   "id": "757aee44-04ea-4378-9d39-a18ce52204ab",
   "metadata": {},
   "outputs": [
    {
     "name": "stdout",
     "output_type": "stream",
     "text": [
      "70\n"
     ]
    }
   ],
   "source": [
    "# part b - Find the cardinality\n",
    "cardinality = unique_patients['Patient ID'].nunique()\n",
    "print(cardinality)"
   ]
  },
  {
   "cell_type": "code",
   "execution_count": 83,
   "id": "6d9a393a-dda8-465c-b84b-b6f5ed6d8043",
   "metadata": {},
   "outputs": [
    {
     "name": "stdout",
     "output_type": "stream",
     "text": [
      "Count breakdown by Diagnosis Code:\n",
      "  Diagnosis Code_x  Count\n",
      "0              E08     13\n",
      "1              E09      8\n",
      "2              E10     16\n",
      "3              E11     17\n",
      "4              E13     16\n"
     ]
    }
   ],
   "source": [
    "# part c - Provide a count breakdown for each of the diabetes codes listed above occurring only after COVID\n",
    "diagnosis_count = result_df.groupby('Diagnosis Code_x').size().reset_index(name='Count')\n",
    "\n",
    "# Print the count breakdown\n",
    "print(\"Count breakdown by Diagnosis Code:\")\n",
    "print(diagnosis_count)\n"
   ]
  },
  {
   "cell_type": "code",
   "execution_count": 84,
   "id": "ff1ff287-6b9f-4b58-8fd8-55e0080a1d7a",
   "metadata": {},
   "outputs": [
    {
     "ename": "SyntaxError",
     "evalue": "invalid syntax (884143407.py, line 1)",
     "output_type": "error",
     "traceback": [
      "\u001b[0;36m  Cell \u001b[0;32mIn[84], line 1\u001b[0;36m\u001b[0m\n\u001b[0;31m    git remote add origin https://github.com/r-buch/DataWrangling2024.git\u001b[0m\n\u001b[0m        ^\u001b[0m\n\u001b[0;31mSyntaxError\u001b[0m\u001b[0;31m:\u001b[0m invalid syntax\n"
     ]
    }
   ],
   "source": []
  },
  {
   "cell_type": "code",
   "execution_count": null,
   "id": "86c7bf17-1ed5-4472-ac91-4c627bf8dd6f",
   "metadata": {},
   "outputs": [],
   "source": []
  }
 ],
 "metadata": {
  "kernelspec": {
   "display_name": "Python 3 (ipykernel)",
   "language": "python",
   "name": "python3"
  },
  "language_info": {
   "codemirror_mode": {
    "name": "ipython",
    "version": 3
   },
   "file_extension": ".py",
   "mimetype": "text/x-python",
   "name": "python",
   "nbconvert_exporter": "python",
   "pygments_lexer": "ipython3",
   "version": "3.11.7"
  }
 },
 "nbformat": 4,
 "nbformat_minor": 5
}
